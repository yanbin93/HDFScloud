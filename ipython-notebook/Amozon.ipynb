{
 "cells": [
  {
   "cell_type": "code",
   "execution_count": 1,
   "metadata": {
    "collapsed": true
   },
   "outputs": [],
   "source": [
    "from pyspark.sql import SparkSession\n",
    "from pyspark import SparkContext,SparkConf\n",
    "spark = SparkSession.builder.\\\n",
    "            master(\"local\").\\\n",
    "            appName(\"amzone\").\\\n",
    "            enableHiveSupport().\\\n",
    "            getOrCreate()\n",
    "sc = spark.sparkContext\n",
    "# inputPath=\"data/sample.json\"\n",
    "# rawdata.select(\"reviewerID\",\"asin\",\"reviewerName\",\"overall\",\"reviewTime\").show()\n",
    "inputPath = \"data/reviews_Books_5.json\"\n",
    "rawdata = spark.read.json(inputPath)\n",
    "ratingDf = rawdata.select(rawdata.reviewerID.alias(\"user\"),\\\n",
    "               rawdata.asin.alias(\"item\"),\\\n",
    "               rawdata.overall.alias(\"rating\"))\n",
    "ratingDf.registerTempTable(\"Ratings\")\n",
    "sqlString=\"with t1 as (select count(distinct(user)) as users from Ratings),\\\n",
    "           t2 as (select count(distinct(item)) as items from Ratings), \\\n",
    "           t3 as (select count(distinct(rating)) as ratings from Ratings) \\\n",
    "            select * from t1 cross join t2 cross join t3\"\n",
    "# rawdata.select(\"reviewerID\").distinct().count()\n",
    "resultDf = spark.sql(sqlString)\n",
    "resultDf.show()\n",
    "trainingData,cvData,testData = ratingDf.randomSplit([0.6,0.2,0.2])\n",
    "# resultDf.show()\n",
    "from pyspark.ml.pipeline import Pipeline,PipelineModel\n",
    "from pyspark.ml.feature import StringIndexer\n",
    "from pyspark.ml.recommendation import ALS\n",
    "from pyspark.ml.evaluation import RegressionEvaluator\n",
    "from pyspark.sql.functions import *\n",
    "userIndexer = StringIndexer(inputCol=\"user\",outputCol=\"userid\",handleInvalid=\"error\").fit(ratingDf)\n",
    "itemIndexer = StringIndexer(inputCol=\"item\",outputCol=\"itemid\").fit(ratingDf)\n",
    "alsModel = ALS(rank=5,userCol=\"userid\",itemCol=\"itemid\",ratingCol=\"rating\",maxIter=5,regParam=0.0001)\n",
    "pipeAls = Pipeline(stages=[userIndexer,itemIndexer,alsModel])\n",
    "pipeAlsModel = pipeAls.fit(trainingData)\n",
    "predictionAls = pipeAlsModel.transform(trainingData)\n",
    "predictionAls.sort(asc(\"userid\")).limit(10).show()\n",
    "prediction = pipeAlsModel.transform(testData)\n",
    "prediction.sort(asc(\"userid\")).limit(10).show()\n",
    "evaluator = RegressionEvaluator()\\\n",
    "      .setMetricName(\"rmse\")\\\n",
    "      .setLabelCol(\"rating\")\\\n",
    "      .setPredictionCol(\"prediction\")\n",
    "rmse = evaluator.evaluate(prediction.na.drop())\n",
    "print \"RMSE:\",rmse\n",
    "sc.stop()\n",
    "spark.stop()"
   ]
  },
  {
   "cell_type": "code",
   "execution_count": 25,
   "metadata": {},
   "outputs": [
    {
     "name": "stdout",
     "output_type": "stream",
     "text": [
      "+-----+-----+-------+\n",
      "|users|items|ratings|\n",
      "+-----+-----+-------+\n",
      "|  100|    1|      5|\n",
      "+-----+-----+-------+\n",
      "\n",
      "+--------------------+----------+------+------+------+----------+\n",
      "|                user|      item|rating|userid|itemid|prediction|\n",
      "+--------------------+----------+------+------+------+----------+\n",
      "|       A1FQPOYRBTTK1|000100039X|   5.0|   0.0|   0.0|  4.999894|\n",
      "|      A3FFNE1DR5SI1W|000100039X|   5.0|   1.0|   0.0|  4.999894|\n",
      "|A10000012B7CGYKOM...|000100039X|   5.0|   2.0|   0.0|  4.999894|\n",
      "|      A1NPNGWBVD9AK3|000100039X|   5.0|   3.0|   0.0|  4.999894|\n",
      "|        A9WX8DK93SN5|000100039X|   1.0|   4.0|   0.0| 0.9999787|\n",
      "|      A1MOSTXNIO5MPJ|000100039X|   5.0|   5.0|   0.0|  4.999894|\n",
      "|      A2BQZRA2P81BQG|000100039X|   2.0|   6.0|   0.0| 1.9999574|\n",
      "|      A3SK701OIJM1YX|000100039X|   5.0|   7.0|   0.0|  4.999894|\n",
      "|      A2X6GEC6LCDN4S|000100039X|   5.0|  11.0|   0.0|  4.999894|\n",
      "|      A3FI0744PG1WYG|000100039X|   5.0|  14.0|   0.0|  4.999894|\n",
      "+--------------------+----------+------+------+------+----------+\n",
      "\n",
      "+--------------+----------+------+------+------+----------+\n",
      "|          user|      item|rating|userid|itemid|prediction|\n",
      "+--------------+----------+------+------+------+----------+\n",
      "| AA6C78DHRK962|000100039X|   5.0|   8.0|   0.0|       NaN|\n",
      "| AMRZ5G7HF7I03|000100039X|   5.0|   9.0|   0.0|       NaN|\n",
      "|A3H65DAAV98C8F|000100039X|   5.0|  13.0|   0.0|       NaN|\n",
      "| AAFLZI7MX9UIG|000100039X|   5.0|  15.0|   0.0|       NaN|\n",
      "|A2I35JB67U20C0|000100039X|   5.0|  17.0|   0.0|       NaN|\n",
      "|A2TBX999AZ6Z7U|000100039X|   5.0|  18.0|   0.0|       NaN|\n",
      "|A2ZB1G1KUE6OS6|000100039X|   2.0|  19.0|   0.0|       NaN|\n",
      "|A1XLZQ205ZAC7L|000100039X|   5.0|  22.0|   0.0|       NaN|\n",
      "| ADS5APY1NKTL4|000100039X|   5.0|  30.0|   0.0|       NaN|\n",
      "| AIHEMBMETF74K|000100039X|   5.0|  32.0|   0.0|       NaN|\n",
      "+--------------+----------+------+------+------+----------+\n",
      "\n"
     ]
    },
    {
     "ename": "Py4JJavaError",
     "evalue": "An error occurred while calling o989.evaluate.\n: org.apache.spark.SparkException: Failed to execute user defined function($anonfun$4: (string) => double)\n\tat org.apache.spark.sql.catalyst.expressions.ScalaUDF.eval(ScalaUDF.scala:1072)\n\tat org.apache.spark.sql.catalyst.expressions.EqualNullSafe.eval(predicates.scala:470)\n\tat org.apache.spark.sql.catalyst.optimizer.EliminateOuterJoin$.org$apache$spark$sql$catalyst$optimizer$EliminateOuterJoin$$canFilterOutNull(joins.scala:116)\n\tat org.apache.spark.sql.catalyst.optimizer.EliminateOuterJoin$$anonfun$7.apply(joins.scala:125)\n\tat org.apache.spark.sql.catalyst.optimizer.EliminateOuterJoin$$anonfun$7.apply(joins.scala:125)\n\tat scala.collection.LinearSeqOptimized$class.exists(LinearSeqOptimized.scala:93)\n\tat scala.collection.immutable.List.exists(List.scala:84)\n\tat org.apache.spark.sql.catalyst.optimizer.EliminateOuterJoin$.org$apache$spark$sql$catalyst$optimizer$EliminateOuterJoin$$buildNewJoinType(joins.scala:125)\n\tat org.apache.spark.sql.catalyst.optimizer.EliminateOuterJoin$$anonfun$apply$2.applyOrElse(joins.scala:140)\n\tat org.apache.spark.sql.catalyst.optimizer.EliminateOuterJoin$$anonfun$apply$2.applyOrElse(joins.scala:138)\n\tat org.apache.spark.sql.catalyst.trees.TreeNode$$anonfun$3.apply(TreeNode.scala:288)\n\tat org.apache.spark.sql.catalyst.trees.TreeNode$$anonfun$3.apply(TreeNode.scala:288)\n\tat org.apache.spark.sql.catalyst.trees.CurrentOrigin$.withOrigin(TreeNode.scala:70)\n\tat org.apache.spark.sql.catalyst.trees.TreeNode.transformDown(TreeNode.scala:287)\n\tat org.apache.spark.sql.catalyst.trees.TreeNode$$anonfun$transformDown$1.apply(TreeNode.scala:293)\n\tat org.apache.spark.sql.catalyst.trees.TreeNode$$anonfun$transformDown$1.apply(TreeNode.scala:293)\n\tat org.apache.spark.sql.catalyst.trees.TreeNode$$anonfun$5.apply(TreeNode.scala:331)\n\tat org.apache.spark.sql.catalyst.trees.TreeNode.mapProductIterator(TreeNode.scala:188)\n\tat org.apache.spark.sql.catalyst.trees.TreeNode.transformChildren(TreeNode.scala:329)\n\tat org.apache.spark.sql.catalyst.trees.TreeNode.transformDown(TreeNode.scala:293)\n\tat org.apache.spark.sql.catalyst.trees.TreeNode$$anonfun$transformDown$1.apply(TreeNode.scala:293)\n\tat org.apache.spark.sql.catalyst.trees.TreeNode$$anonfun$transformDown$1.apply(TreeNode.scala:293)\n\tat org.apache.spark.sql.catalyst.trees.TreeNode$$anonfun$5.apply(TreeNode.scala:331)\n\tat org.apache.spark.sql.catalyst.trees.TreeNode.mapProductIterator(TreeNode.scala:188)\n\tat org.apache.spark.sql.catalyst.trees.TreeNode.transformChildren(TreeNode.scala:329)\n\tat org.apache.spark.sql.catalyst.trees.TreeNode.transformDown(TreeNode.scala:293)\n\tat org.apache.spark.sql.catalyst.trees.TreeNode.transform(TreeNode.scala:277)\n\tat org.apache.spark.sql.catalyst.optimizer.EliminateOuterJoin$.apply(joins.scala:138)\n\tat org.apache.spark.sql.catalyst.optimizer.EliminateOuterJoin$.apply(joins.scala:105)\n\tat org.apache.spark.sql.catalyst.rules.RuleExecutor$$anonfun$execute$1$$anonfun$apply$1.apply(RuleExecutor.scala:85)\n\tat org.apache.spark.sql.catalyst.rules.RuleExecutor$$anonfun$execute$1$$anonfun$apply$1.apply(RuleExecutor.scala:82)\n\tat scala.collection.IndexedSeqOptimized$class.foldl(IndexedSeqOptimized.scala:57)\n\tat scala.collection.IndexedSeqOptimized$class.foldLeft(IndexedSeqOptimized.scala:66)\n\tat scala.collection.mutable.WrappedArray.foldLeft(WrappedArray.scala:35)\n\tat org.apache.spark.sql.catalyst.rules.RuleExecutor$$anonfun$execute$1.apply(RuleExecutor.scala:82)\n\tat org.apache.spark.sql.catalyst.rules.RuleExecutor$$anonfun$execute$1.apply(RuleExecutor.scala:74)\n\tat scala.collection.immutable.List.foreach(List.scala:381)\n\tat org.apache.spark.sql.catalyst.rules.RuleExecutor.execute(RuleExecutor.scala:74)\n\tat org.apache.spark.sql.execution.QueryExecution.optimizedPlan$lzycompute(QueryExecution.scala:73)\n\tat org.apache.spark.sql.execution.QueryExecution.optimizedPlan(QueryExecution.scala:73)\n\tat org.apache.spark.sql.execution.QueryExecution.sparkPlan$lzycompute(QueryExecution.scala:79)\n\tat org.apache.spark.sql.execution.QueryExecution.sparkPlan(QueryExecution.scala:75)\n\tat org.apache.spark.sql.execution.QueryExecution.executedPlan$lzycompute(QueryExecution.scala:84)\n\tat org.apache.spark.sql.execution.QueryExecution.executedPlan(QueryExecution.scala:84)\n\tat org.apache.spark.sql.execution.QueryExecution.toRdd$lzycompute(QueryExecution.scala:87)\n\tat org.apache.spark.sql.execution.QueryExecution.toRdd(QueryExecution.scala:87)\n\tat org.apache.spark.sql.Dataset.rdd$lzycompute(Dataset.scala:2547)\n\tat org.apache.spark.sql.Dataset.rdd(Dataset.scala:2544)\n\tat org.apache.spark.ml.evaluation.RegressionEvaluator.evaluate(RegressionEvaluator.scala:82)\n\tat sun.reflect.NativeMethodAccessorImpl.invoke0(Native Method)\n\tat sun.reflect.NativeMethodAccessorImpl.invoke(NativeMethodAccessorImpl.java:62)\n\tat sun.reflect.DelegatingMethodAccessorImpl.invoke(DelegatingMethodAccessorImpl.java:43)\n\tat java.lang.reflect.Method.invoke(Method.java:498)\n\tat py4j.reflection.MethodInvoker.invoke(MethodInvoker.java:244)\n\tat py4j.reflection.ReflectionEngine.invoke(ReflectionEngine.java:357)\n\tat py4j.Gateway.invoke(Gateway.java:280)\n\tat py4j.commands.AbstractCommand.invokeMethod(AbstractCommand.java:132)\n\tat py4j.commands.CallCommand.execute(CallCommand.java:79)\n\tat py4j.GatewayConnection.run(GatewayConnection.java:214)\n\tat java.lang.Thread.run(Thread.java:745)\nCaused by: org.apache.spark.SparkException: Unseen label: null.\n\tat org.apache.spark.ml.feature.StringIndexerModel$$anonfun$4.apply(StringIndexer.scala:170)\n\tat org.apache.spark.ml.feature.StringIndexerModel$$anonfun$4.apply(StringIndexer.scala:166)\n\tat org.apache.spark.sql.catalyst.expressions.ScalaUDF$$anonfun$2.apply(ScalaUDF.scala:89)\n\tat org.apache.spark.sql.catalyst.expressions.ScalaUDF$$anonfun$2.apply(ScalaUDF.scala:88)\n\tat org.apache.spark.sql.catalyst.expressions.ScalaUDF.eval(ScalaUDF.scala:1069)\n\t... 59 more\n",
     "output_type": "error",
     "traceback": [
      "\u001b[0;31m---------------------------------------------------------------------------\u001b[0m",
      "\u001b[0;31mPy4JJavaError\u001b[0m                             Traceback (most recent call last)",
      "\u001b[0;32m<ipython-input-25-c9f099254dac>\u001b[0m in \u001b[0;36m<module>\u001b[0;34m()\u001b[0m\n\u001b[1;32m     30\u001b[0m \u001b[0mpredictionRecommendation\u001b[0m\u001b[0;34m.\u001b[0m\u001b[0msort\u001b[0m\u001b[0;34m(\u001b[0m\u001b[0masc\u001b[0m\u001b[0;34m(\u001b[0m\u001b[0;34m\"userid\"\u001b[0m\u001b[0;34m)\u001b[0m\u001b[0;34m)\u001b[0m\u001b[0;34m.\u001b[0m\u001b[0mlimit\u001b[0m\u001b[0;34m(\u001b[0m\u001b[0;36m10\u001b[0m\u001b[0;34m)\u001b[0m\u001b[0;34m.\u001b[0m\u001b[0mshow\u001b[0m\u001b[0;34m(\u001b[0m\u001b[0;34m)\u001b[0m\u001b[0;34m\u001b[0m\u001b[0m\n\u001b[1;32m     31\u001b[0m \u001b[0;34m\u001b[0m\u001b[0m\n\u001b[0;32m---> 32\u001b[0;31m \u001b[0mrmse\u001b[0m \u001b[0;34m=\u001b[0m \u001b[0mevaluator\u001b[0m\u001b[0;34m.\u001b[0m\u001b[0mevaluate\u001b[0m\u001b[0;34m(\u001b[0m\u001b[0mpredictionRecommendation\u001b[0m\u001b[0;34m.\u001b[0m\u001b[0mna\u001b[0m\u001b[0;34m.\u001b[0m\u001b[0mdrop\u001b[0m\u001b[0;34m(\u001b[0m\u001b[0;34m)\u001b[0m\u001b[0;34m)\u001b[0m\u001b[0;34m\u001b[0m\u001b[0m\n\u001b[0m\u001b[1;32m     33\u001b[0m \u001b[0;32mprint\u001b[0m \u001b[0;34m\"RMSE:\"\u001b[0m\u001b[0;34m,\u001b[0m\u001b[0mrmse\u001b[0m\u001b[0;34m\u001b[0m\u001b[0m\n",
      "\u001b[0;32m/home/yanbin/hadoop-2.6/spark/python/pyspark/ml/evaluation.pyc\u001b[0m in \u001b[0;36mevaluate\u001b[0;34m(self, dataset, params)\u001b[0m\n\u001b[1;32m     67\u001b[0m                 \u001b[0;32mreturn\u001b[0m \u001b[0mself\u001b[0m\u001b[0;34m.\u001b[0m\u001b[0mcopy\u001b[0m\u001b[0;34m(\u001b[0m\u001b[0mparams\u001b[0m\u001b[0;34m)\u001b[0m\u001b[0;34m.\u001b[0m\u001b[0m_evaluate\u001b[0m\u001b[0;34m(\u001b[0m\u001b[0mdataset\u001b[0m\u001b[0;34m)\u001b[0m\u001b[0;34m\u001b[0m\u001b[0m\n\u001b[1;32m     68\u001b[0m             \u001b[0;32melse\u001b[0m\u001b[0;34m:\u001b[0m\u001b[0;34m\u001b[0m\u001b[0m\n\u001b[0;32m---> 69\u001b[0;31m                 \u001b[0;32mreturn\u001b[0m \u001b[0mself\u001b[0m\u001b[0;34m.\u001b[0m\u001b[0m_evaluate\u001b[0m\u001b[0;34m(\u001b[0m\u001b[0mdataset\u001b[0m\u001b[0;34m)\u001b[0m\u001b[0;34m\u001b[0m\u001b[0m\n\u001b[0m\u001b[1;32m     70\u001b[0m         \u001b[0;32melse\u001b[0m\u001b[0;34m:\u001b[0m\u001b[0;34m\u001b[0m\u001b[0m\n\u001b[1;32m     71\u001b[0m             \u001b[0;32mraise\u001b[0m \u001b[0mValueError\u001b[0m\u001b[0;34m(\u001b[0m\u001b[0;34m\"Params must be a param map but got %s.\"\u001b[0m \u001b[0;34m%\u001b[0m \u001b[0mtype\u001b[0m\u001b[0;34m(\u001b[0m\u001b[0mparams\u001b[0m\u001b[0;34m)\u001b[0m\u001b[0;34m)\u001b[0m\u001b[0;34m\u001b[0m\u001b[0m\n",
      "\u001b[0;32m/home/yanbin/hadoop-2.6/spark/python/pyspark/ml/evaluation.pyc\u001b[0m in \u001b[0;36m_evaluate\u001b[0;34m(self, dataset)\u001b[0m\n\u001b[1;32m     97\u001b[0m         \"\"\"\n\u001b[1;32m     98\u001b[0m         \u001b[0mself\u001b[0m\u001b[0;34m.\u001b[0m\u001b[0m_transfer_params_to_java\u001b[0m\u001b[0;34m(\u001b[0m\u001b[0;34m)\u001b[0m\u001b[0;34m\u001b[0m\u001b[0m\n\u001b[0;32m---> 99\u001b[0;31m         \u001b[0;32mreturn\u001b[0m \u001b[0mself\u001b[0m\u001b[0;34m.\u001b[0m\u001b[0m_java_obj\u001b[0m\u001b[0;34m.\u001b[0m\u001b[0mevaluate\u001b[0m\u001b[0;34m(\u001b[0m\u001b[0mdataset\u001b[0m\u001b[0;34m.\u001b[0m\u001b[0m_jdf\u001b[0m\u001b[0;34m)\u001b[0m\u001b[0;34m\u001b[0m\u001b[0m\n\u001b[0m\u001b[1;32m    100\u001b[0m \u001b[0;34m\u001b[0m\u001b[0m\n\u001b[1;32m    101\u001b[0m     \u001b[0;32mdef\u001b[0m \u001b[0misLargerBetter\u001b[0m\u001b[0;34m(\u001b[0m\u001b[0mself\u001b[0m\u001b[0;34m)\u001b[0m\u001b[0;34m:\u001b[0m\u001b[0;34m\u001b[0m\u001b[0m\n",
      "\u001b[0;32m/home/yanbin/hadoop-2.6/spark/python/lib/py4j-0.10.4-src.zip/py4j/java_gateway.py\u001b[0m in \u001b[0;36m__call__\u001b[0;34m(self, *args)\u001b[0m\n\u001b[1;32m   1131\u001b[0m         \u001b[0manswer\u001b[0m \u001b[0;34m=\u001b[0m \u001b[0mself\u001b[0m\u001b[0;34m.\u001b[0m\u001b[0mgateway_client\u001b[0m\u001b[0;34m.\u001b[0m\u001b[0msend_command\u001b[0m\u001b[0;34m(\u001b[0m\u001b[0mcommand\u001b[0m\u001b[0;34m)\u001b[0m\u001b[0;34m\u001b[0m\u001b[0m\n\u001b[1;32m   1132\u001b[0m         return_value = get_return_value(\n\u001b[0;32m-> 1133\u001b[0;31m             answer, self.gateway_client, self.target_id, self.name)\n\u001b[0m\u001b[1;32m   1134\u001b[0m \u001b[0;34m\u001b[0m\u001b[0m\n\u001b[1;32m   1135\u001b[0m         \u001b[0;32mfor\u001b[0m \u001b[0mtemp_arg\u001b[0m \u001b[0;32min\u001b[0m \u001b[0mtemp_args\u001b[0m\u001b[0;34m:\u001b[0m\u001b[0;34m\u001b[0m\u001b[0m\n",
      "\u001b[0;32m/home/yanbin/hadoop-2.6/spark/python/pyspark/sql/utils.pyc\u001b[0m in \u001b[0;36mdeco\u001b[0;34m(*a, **kw)\u001b[0m\n\u001b[1;32m     61\u001b[0m     \u001b[0;32mdef\u001b[0m \u001b[0mdeco\u001b[0m\u001b[0;34m(\u001b[0m\u001b[0;34m*\u001b[0m\u001b[0ma\u001b[0m\u001b[0;34m,\u001b[0m \u001b[0;34m**\u001b[0m\u001b[0mkw\u001b[0m\u001b[0;34m)\u001b[0m\u001b[0;34m:\u001b[0m\u001b[0;34m\u001b[0m\u001b[0m\n\u001b[1;32m     62\u001b[0m         \u001b[0;32mtry\u001b[0m\u001b[0;34m:\u001b[0m\u001b[0;34m\u001b[0m\u001b[0m\n\u001b[0;32m---> 63\u001b[0;31m             \u001b[0;32mreturn\u001b[0m \u001b[0mf\u001b[0m\u001b[0;34m(\u001b[0m\u001b[0;34m*\u001b[0m\u001b[0ma\u001b[0m\u001b[0;34m,\u001b[0m \u001b[0;34m**\u001b[0m\u001b[0mkw\u001b[0m\u001b[0;34m)\u001b[0m\u001b[0;34m\u001b[0m\u001b[0m\n\u001b[0m\u001b[1;32m     64\u001b[0m         \u001b[0;32mexcept\u001b[0m \u001b[0mpy4j\u001b[0m\u001b[0;34m.\u001b[0m\u001b[0mprotocol\u001b[0m\u001b[0;34m.\u001b[0m\u001b[0mPy4JJavaError\u001b[0m \u001b[0;32mas\u001b[0m \u001b[0me\u001b[0m\u001b[0;34m:\u001b[0m\u001b[0;34m\u001b[0m\u001b[0m\n\u001b[1;32m     65\u001b[0m             \u001b[0ms\u001b[0m \u001b[0;34m=\u001b[0m \u001b[0me\u001b[0m\u001b[0;34m.\u001b[0m\u001b[0mjava_exception\u001b[0m\u001b[0;34m.\u001b[0m\u001b[0mtoString\u001b[0m\u001b[0;34m(\u001b[0m\u001b[0;34m)\u001b[0m\u001b[0;34m\u001b[0m\u001b[0m\n",
      "\u001b[0;32m/home/yanbin/hadoop-2.6/spark/python/lib/py4j-0.10.4-src.zip/py4j/protocol.py\u001b[0m in \u001b[0;36mget_return_value\u001b[0;34m(answer, gateway_client, target_id, name)\u001b[0m\n\u001b[1;32m    317\u001b[0m                 raise Py4JJavaError(\n\u001b[1;32m    318\u001b[0m                     \u001b[0;34m\"An error occurred while calling {0}{1}{2}.\\n\"\u001b[0m\u001b[0;34m.\u001b[0m\u001b[0;34m\u001b[0m\u001b[0m\n\u001b[0;32m--> 319\u001b[0;31m                     format(target_id, \".\", name), value)\n\u001b[0m\u001b[1;32m    320\u001b[0m             \u001b[0;32melse\u001b[0m\u001b[0;34m:\u001b[0m\u001b[0;34m\u001b[0m\u001b[0m\n\u001b[1;32m    321\u001b[0m                 raise Py4JError(\n",
      "\u001b[0;31mPy4JJavaError\u001b[0m: An error occurred while calling o989.evaluate.\n: org.apache.spark.SparkException: Failed to execute user defined function($anonfun$4: (string) => double)\n\tat org.apache.spark.sql.catalyst.expressions.ScalaUDF.eval(ScalaUDF.scala:1072)\n\tat org.apache.spark.sql.catalyst.expressions.EqualNullSafe.eval(predicates.scala:470)\n\tat org.apache.spark.sql.catalyst.optimizer.EliminateOuterJoin$.org$apache$spark$sql$catalyst$optimizer$EliminateOuterJoin$$canFilterOutNull(joins.scala:116)\n\tat org.apache.spark.sql.catalyst.optimizer.EliminateOuterJoin$$anonfun$7.apply(joins.scala:125)\n\tat org.apache.spark.sql.catalyst.optimizer.EliminateOuterJoin$$anonfun$7.apply(joins.scala:125)\n\tat scala.collection.LinearSeqOptimized$class.exists(LinearSeqOptimized.scala:93)\n\tat scala.collection.immutable.List.exists(List.scala:84)\n\tat org.apache.spark.sql.catalyst.optimizer.EliminateOuterJoin$.org$apache$spark$sql$catalyst$optimizer$EliminateOuterJoin$$buildNewJoinType(joins.scala:125)\n\tat org.apache.spark.sql.catalyst.optimizer.EliminateOuterJoin$$anonfun$apply$2.applyOrElse(joins.scala:140)\n\tat org.apache.spark.sql.catalyst.optimizer.EliminateOuterJoin$$anonfun$apply$2.applyOrElse(joins.scala:138)\n\tat org.apache.spark.sql.catalyst.trees.TreeNode$$anonfun$3.apply(TreeNode.scala:288)\n\tat org.apache.spark.sql.catalyst.trees.TreeNode$$anonfun$3.apply(TreeNode.scala:288)\n\tat org.apache.spark.sql.catalyst.trees.CurrentOrigin$.withOrigin(TreeNode.scala:70)\n\tat org.apache.spark.sql.catalyst.trees.TreeNode.transformDown(TreeNode.scala:287)\n\tat org.apache.spark.sql.catalyst.trees.TreeNode$$anonfun$transformDown$1.apply(TreeNode.scala:293)\n\tat org.apache.spark.sql.catalyst.trees.TreeNode$$anonfun$transformDown$1.apply(TreeNode.scala:293)\n\tat org.apache.spark.sql.catalyst.trees.TreeNode$$anonfun$5.apply(TreeNode.scala:331)\n\tat org.apache.spark.sql.catalyst.trees.TreeNode.mapProductIterator(TreeNode.scala:188)\n\tat org.apache.spark.sql.catalyst.trees.TreeNode.transformChildren(TreeNode.scala:329)\n\tat org.apache.spark.sql.catalyst.trees.TreeNode.transformDown(TreeNode.scala:293)\n\tat org.apache.spark.sql.catalyst.trees.TreeNode$$anonfun$transformDown$1.apply(TreeNode.scala:293)\n\tat org.apache.spark.sql.catalyst.trees.TreeNode$$anonfun$transformDown$1.apply(TreeNode.scala:293)\n\tat org.apache.spark.sql.catalyst.trees.TreeNode$$anonfun$5.apply(TreeNode.scala:331)\n\tat org.apache.spark.sql.catalyst.trees.TreeNode.mapProductIterator(TreeNode.scala:188)\n\tat org.apache.spark.sql.catalyst.trees.TreeNode.transformChildren(TreeNode.scala:329)\n\tat org.apache.spark.sql.catalyst.trees.TreeNode.transformDown(TreeNode.scala:293)\n\tat org.apache.spark.sql.catalyst.trees.TreeNode.transform(TreeNode.scala:277)\n\tat org.apache.spark.sql.catalyst.optimizer.EliminateOuterJoin$.apply(joins.scala:138)\n\tat org.apache.spark.sql.catalyst.optimizer.EliminateOuterJoin$.apply(joins.scala:105)\n\tat org.apache.spark.sql.catalyst.rules.RuleExecutor$$anonfun$execute$1$$anonfun$apply$1.apply(RuleExecutor.scala:85)\n\tat org.apache.spark.sql.catalyst.rules.RuleExecutor$$anonfun$execute$1$$anonfun$apply$1.apply(RuleExecutor.scala:82)\n\tat scala.collection.IndexedSeqOptimized$class.foldl(IndexedSeqOptimized.scala:57)\n\tat scala.collection.IndexedSeqOptimized$class.foldLeft(IndexedSeqOptimized.scala:66)\n\tat scala.collection.mutable.WrappedArray.foldLeft(WrappedArray.scala:35)\n\tat org.apache.spark.sql.catalyst.rules.RuleExecutor$$anonfun$execute$1.apply(RuleExecutor.scala:82)\n\tat org.apache.spark.sql.catalyst.rules.RuleExecutor$$anonfun$execute$1.apply(RuleExecutor.scala:74)\n\tat scala.collection.immutable.List.foreach(List.scala:381)\n\tat org.apache.spark.sql.catalyst.rules.RuleExecutor.execute(RuleExecutor.scala:74)\n\tat org.apache.spark.sql.execution.QueryExecution.optimizedPlan$lzycompute(QueryExecution.scala:73)\n\tat org.apache.spark.sql.execution.QueryExecution.optimizedPlan(QueryExecution.scala:73)\n\tat org.apache.spark.sql.execution.QueryExecution.sparkPlan$lzycompute(QueryExecution.scala:79)\n\tat org.apache.spark.sql.execution.QueryExecution.sparkPlan(QueryExecution.scala:75)\n\tat org.apache.spark.sql.execution.QueryExecution.executedPlan$lzycompute(QueryExecution.scala:84)\n\tat org.apache.spark.sql.execution.QueryExecution.executedPlan(QueryExecution.scala:84)\n\tat org.apache.spark.sql.execution.QueryExecution.toRdd$lzycompute(QueryExecution.scala:87)\n\tat org.apache.spark.sql.execution.QueryExecution.toRdd(QueryExecution.scala:87)\n\tat org.apache.spark.sql.Dataset.rdd$lzycompute(Dataset.scala:2547)\n\tat org.apache.spark.sql.Dataset.rdd(Dataset.scala:2544)\n\tat org.apache.spark.ml.evaluation.RegressionEvaluator.evaluate(RegressionEvaluator.scala:82)\n\tat sun.reflect.NativeMethodAccessorImpl.invoke0(Native Method)\n\tat sun.reflect.NativeMethodAccessorImpl.invoke(NativeMethodAccessorImpl.java:62)\n\tat sun.reflect.DelegatingMethodAccessorImpl.invoke(DelegatingMethodAccessorImpl.java:43)\n\tat java.lang.reflect.Method.invoke(Method.java:498)\n\tat py4j.reflection.MethodInvoker.invoke(MethodInvoker.java:244)\n\tat py4j.reflection.ReflectionEngine.invoke(ReflectionEngine.java:357)\n\tat py4j.Gateway.invoke(Gateway.java:280)\n\tat py4j.commands.AbstractCommand.invokeMethod(AbstractCommand.java:132)\n\tat py4j.commands.CallCommand.execute(CallCommand.java:79)\n\tat py4j.GatewayConnection.run(GatewayConnection.java:214)\n\tat java.lang.Thread.run(Thread.java:745)\nCaused by: org.apache.spark.SparkException: Unseen label: null.\n\tat org.apache.spark.ml.feature.StringIndexerModel$$anonfun$4.apply(StringIndexer.scala:170)\n\tat org.apache.spark.ml.feature.StringIndexerModel$$anonfun$4.apply(StringIndexer.scala:166)\n\tat org.apache.spark.sql.catalyst.expressions.ScalaUDF$$anonfun$2.apply(ScalaUDF.scala:89)\n\tat org.apache.spark.sql.catalyst.expressions.ScalaUDF$$anonfun$2.apply(ScalaUDF.scala:88)\n\tat org.apache.spark.sql.catalyst.expressions.ScalaUDF.eval(ScalaUDF.scala:1069)\n\t... 59 more\n"
     ]
    }
   ],
   "source": [
    "# resultDf.show()\n",
    "from pyspark.ml.pipeline import Pipeline,PipelineModel\n",
    "from pyspark.ml.feature import StringIndexer\n",
    "from pyspark.ml.recommendation import ALS\n",
    "from pyspark.ml.evaluation import RegressionEvaluator\n",
    "from pyspark.sql.types import *\n",
    "from pyspark.sql.functions import *\n",
    "inputPath=\"data/sample.json\"\n",
    "# rawdata.select(\"reviewerID\",\"asin\",\"reviewerName\",\"overall\",\"reviewTime\").show()\n",
    "# inputPath = \"data/reviews_Books_5.json\"\n",
    "rawdata = spark.read.json(inputPath)\n",
    "ratingDf = rawdata.select(rawdata.reviewerID.alias(\"user\"),\\\n",
    "               rawdata.asin.alias(\"item\"),\\\n",
    "               rawdata.overall.alias(\"rating\"))\n",
    "ratingDf = ratingDf.select(ratingDf.user,ratingDf.item,ratingDf.rating.cast(FloatType()))\n",
    "ratingDf.registerTempTable(\"Ratings\")\n",
    "sqlString=\"with t1 as (select count(distinct(user)) as users from Ratings),\\\n",
    "           t2 as (select count(distinct(item)) as items from Ratings), \\\n",
    "           t3 as (select count(distinct(rating)) as ratings from Ratings) \\\n",
    "            select * from t1 cross join t2 cross join t3\"\n",
    "# rawdata.select(\"reviewerID\").distinct().count()\n",
    "resultDf = spark.sql(sqlString)\n",
    "trainingData,cvData,testData = ratingDf.randomSplit([0.6,0.2,0.2])\n",
    "userIndexer = StringIndexer(inputCol=\"user\",outputCol=\"userid\",handleInvalid=\"error\").fit(ratingDf)\n",
    "itemIndexer = StringIndexer(inputCol=\"item\",outputCol=\"itemid\").fit(ratingDf)\n",
    "alsModel = ALS(rank=5,userCol=\"userid\",itemCol=\"itemid\",ratingCol=\"rating\",maxIter=5,regParam=0.0001)\n",
    "pipeAls = Pipeline(stages=[userIndexer,itemIndexer,alsModel])\n",
    "pipeAlsModel = pipeAls.fit(trainingData)\n",
    "predictionAls = pipeAlsModel.transform(trainingData)\n",
    "predictionRecommendation= pipeAlsModel.transform(testData)\n",
    "evaluator = RegressionEvaluator()\\\n",
    "      .setMetricName(\"rmse\")\\\n",
    "      .setLabelCol(\"rating\")\\\n",
    "      .setPredictionCol(\"prediction\")\n",
    "resultDf.show()\n",
    "predictionAls.sort(asc(\"userid\")).limit(10).show()\n",
    "predictionRecommendation.sort(asc(\"userid\")).limit(10).show()\n",
    "rmse = evaluator.evaluate(predictionRecommendation.na.drop())\n",
    "print \"RMSE:\",rmse"
   ]
  },
  {
   "cell_type": "code",
   "execution_count": null,
   "metadata": {
    "collapsed": true
   },
   "outputs": [],
   "source": [
    "ratingDf = ratingDf.select(ratingDf.user,ratingDf.item,ratingDf.rating.cast(FloatType())"
   ]
  },
  {
   "cell_type": "code",
   "execution_count": 30,
   "metadata": {},
   "outputs": [
    {
     "name": "stdout",
     "output_type": "stream",
     "text": [
      "+--------------+----------+------+------+------+----------+\n",
      "|          user|      item|rating|userid|itemid|prediction|\n",
      "+--------------+----------+------+------+------+----------+\n",
      "| ABFOAYZA2UHD3|000100039X|   5.0|  65.0|   0.0|       9.0|\n",
      "|A3A0ZK5GTHSCUV|000100039X|   5.0|  76.0|   0.0|       9.0|\n",
      "| AFY0BT42DDYZV|000100039X|   5.0|  91.0|   0.0|       9.0|\n",
      "|A1XLZQ205ZAC7L|000100039X|   5.0|  22.0|   0.0|       9.0|\n",
      "|A2OP1HD9RGX5OW|000100039X|   5.0|  52.0|   0.0|       9.0|\n",
      "|A3H65DAAV98C8F|000100039X|   5.0|  13.0|   0.0|       9.0|\n",
      "|A2E71VWXO59342|000100039X|   5.0|  86.0|   0.0|       9.0|\n",
      "| A1DQYPYI53ABM|000100039X|   5.0|  57.0|   0.0|       9.0|\n",
      "|A2ZB1G1KUE6OS6|000100039X|   2.0|  19.0|   0.0|       9.0|\n",
      "|A1MCAHDE1F3Q6L|000100039X|   5.0|  64.0|   0.0|       9.0|\n",
      "| AAFLZI7MX9UIG|000100039X|   5.0|  15.0|   0.0|       9.0|\n",
      "| A5E9TSD20U9PR|000100039X|   5.0|  61.0|   0.0|       9.0|\n",
      "| AMRZ5G7HF7I03|000100039X|   5.0|   9.0|   0.0|       9.0|\n",
      "|A2I35JB67U20C0|000100039X|   5.0|  17.0|   0.0|       9.0|\n",
      "|A38AAPXSJN4C5G|000100039X|   5.0|  72.0|   0.0|       9.0|\n",
      "| AA6C78DHRK962|000100039X|   5.0|   8.0|   0.0|       9.0|\n",
      "|A2YCL7EHAUYM2L|000100039X|   5.0|  39.0|   0.0|       9.0|\n",
      "|A1340OFLZBW5NG|000100039X|   5.0|  80.0|   0.0|       9.0|\n",
      "|A3UJJGY799F76I|000100039X|   5.0|  95.0|   0.0|       9.0|\n",
      "| AIHEMBMETF74K|000100039X|   5.0|  32.0|   0.0|       9.0|\n",
      "+--------------+----------+------+------+------+----------+\n",
      "only showing top 20 rows\n",
      "\n"
     ]
    }
   ],
   "source": [
    "predictionRecommendation.na.fill(9).show()"
   ]
  },
  {
   "cell_type": "code",
   "execution_count": 10,
   "metadata": {},
   "outputs": [
    {
     "name": "stdout",
     "output_type": "stream",
     "text": [
      "+--------------------+----------+------+\n",
      "|              userid|    itemid|rating|\n",
      "+--------------------+----------+------+\n",
      "|A10000012B7CGYKOM...|000100039X|   5.0|\n",
      "|      A2S166WSCFIFP5|000100039X|   5.0|\n",
      "|      A1BM81XB4QHOA3|000100039X|   5.0|\n",
      "|      A1MOSTXNIO5MPJ|000100039X|   5.0|\n",
      "|      A2XQ5LZHTD4AFT|000100039X|   5.0|\n",
      "|      A3V1MKC2BVWY48|000100039X|   5.0|\n",
      "|      A12387207U8U24|000100039X|   5.0|\n",
      "|      A29TRDMK51GKZR|000100039X|   5.0|\n",
      "|      A3FI0744PG1WYG|000100039X|   5.0|\n",
      "|      A2LBBQHYLEHM7P|000100039X|   5.0|\n",
      "|      A1340OFLZBW5NG|000100039X|   5.0|\n",
      "|      A2KU9IU07LOJS1|000100039X|   5.0|\n",
      "|      A2WVHIRDMLM82E|000100039X|   5.0|\n",
      "|      A2I35JB67U20C0|000100039X|   5.0|\n",
      "|      A19N3FCQCLJYUA|000100039X|   5.0|\n",
      "|      A3FFNE1DR5SI1W|000100039X|   5.0|\n",
      "|      A1TT4CY55WLHAR|000100039X|   5.0|\n",
      "|      A2X4HE21JTAL98|000100039X|   5.0|\n",
      "|       ARDQ9KNB8K22N|000100039X|   5.0|\n",
      "|       A27ZH1AQORJ1L|000100039X|   5.0|\n",
      "+--------------------+----------+------+\n",
      "only showing top 20 rows\n",
      "\n"
     ]
    }
   ],
   "source": [
    "ratingDf.show()"
   ]
  },
  {
   "cell_type": "raw",
   "metadata": {},
   "source": []
  },
  {
   "cell_type": "code",
   "execution_count": 52,
   "metadata": {
    "collapsed": true
   },
   "outputs": [],
   "source": [
    "inputPath=\"data/ratings_Electronics_sample.csv\"\n",
    "rawdata = spark.read.csv(inputPath)\n",
    "df = rawdata.select(rawdata._c0.alias(\"user\"),\\\n",
    "                       rawdata._c1.alias(\"item\"),\\\n",
    "                       rawdata._c2.astype(\"float\").alias(\"rating\"),\\\n",
    "                       rawdata._c3.alias(\"timestamp\"))\n",
    "trainingData,cvData,testData = df.randomSplit([0.6,0.2,0.2])"
   ]
  },
  {
   "cell_type": "code",
   "execution_count": 54,
   "metadata": {
    "scrolled": true
   },
   "outputs": [
    {
     "name": "stdout",
     "output_type": "stream",
     "text": [
      "+--------------+----------+------+----------+------+------+----------+\n",
      "|          user|      item|rating| timestamp|userid|itemid|prediction|\n",
      "+--------------+----------+------+----------+------+------+----------+\n",
      "|A2SRW2W1GXYKQZ|0594481813|   5.0|1403827200|   1.0|   1.0|  4.999883|\n",
      "|A2OC1UK7VMBLOT|0594481813|   4.0|1398643200|   2.0|   1.0| 3.9999063|\n",
      "| A6DI4IE8MKFYR|0972683275|   5.0|1363219200|   3.0|   0.0|  4.999068|\n",
      "|A106YUCY4SVX1D|0972683275|   5.0|1310083200|   4.0|   0.0|  4.999068|\n",
      "|A3OYE7X2O08LNT|0972683275|   4.0|1360195200|   5.0|   0.0| 3.9992542|\n",
      "|A2ULCET06LOPBB|0972683275|   5.0|1369785600|   6.0|   0.0|  4.999068|\n",
      "|A3M122DYN9L5N8|0594451647|   1.0|1388707200|   8.0|   4.0| 0.9999989|\n",
      "|A3IIGCFLKVFW8M|0972683275|   5.0|1393459200|   9.0|   0.0|  4.999068|\n",
      "|A39Z4OU2C7ENWH|0972683275|   3.0|1328572800|  10.0|   0.0| 2.9994407|\n",
      "|A3T3XKC7H5ACI1|0594033934|   5.0|1401235200|  12.0|  16.0|   4.99998|\n",
      "|A1RPEK98P97J7W|0972683275|   5.0|1359504000|  14.0|   0.0|  4.999068|\n",
      "|A3S0RV5ZQ37538|0594451647|   4.0|1399075200|  17.0|   4.0| 3.9999957|\n",
      "|A2BWX768VJ5QFS|0972683275|   5.0|1298678400|  18.0|   0.0|  4.999068|\n",
      "|A32QNTFPVVY3P4|0972683275|   4.0|1306281600|  19.0|   0.0| 3.9992542|\n",
      "|A13BWQDECDDVIZ|0972683275|   4.0|1296950400|  24.0|   0.0| 3.9992542|\n",
      "|A17S5ODXALEGVP|0972683275|   5.0|1325376000|  25.0|   0.0|  4.999068|\n",
      "| AQJ9VAGG0QKEH|0972683275|   5.0|1374364800|  26.0|   0.0|  4.999068|\n",
      "|A1FQOCN6SNXNG6|0972683275|   5.0|1342915200|  27.0|   0.0|  4.999068|\n",
      "|A1HOSS7PNC1LMU|0594012015|   1.0|1374537600|  29.0|   7.0|0.99999934|\n",
      "|A3V0W3FHKL6468|0972683275|   5.0|1375660800|  32.0|   0.0|  4.999068|\n",
      "+--------------+----------+------+----------+------+------+----------+\n",
      "only showing top 20 rows\n",
      "\n",
      "+--------------+----------+------+----------+------+------+----------+\n",
      "|          user|      item|rating| timestamp|userid|itemid|prediction|\n",
      "+--------------+----------+------+----------+------+------+----------+\n",
      "|A3QRE0I5HSC332|0972683275|   4.0|1367798400|   0.0|   0.0|       NaN|\n",
      "|A3TY97QXQ6ZFSQ|0972683275|   4.0|1291766400|   7.0|   0.0|       NaN|\n",
      "|A3E7PG9CHDBICA|0594450705|   5.0|1403827200|  11.0|  37.0|       NaN|\n",
      "|A2YYH2I9S9TUCM|0972683275|   5.0|1379203200|  13.0|   0.0|       NaN|\n",
      "| AOK77THMKCGXZ|0594033896|   4.0|1394496000|  20.0|  11.0|       NaN|\n",
      "| AIJWAL4ZGCK2F|0972683275|   5.0|1317513600|  21.0|   0.0|       NaN|\n",
      "|A2QB7E7X3RURZ2|0972683275|   3.0|1348185600|  22.0|   0.0|       NaN|\n",
      "|A1L5LHGAUIIEOU|0972683275|   5.0|1345161600|  23.0|   0.0|       NaN|\n",
      "| AYKXABHFBFGJX|0972683275|   2.0|1336694400|  28.0|   0.0|       NaN|\n",
      "|A1QGNMC6O1VW39|0511189877|   5.0|1397433600|  36.0|   9.0|       NaN|\n",
      "| A3IC6OB22INS9|0972683275|   4.0|1369353600|  37.0|   0.0|       NaN|\n",
      "|A28B1G1MSJ6OO1|0528881469|   4.0|1280016000|  43.0|   2.0|       NaN|\n",
      "|A2CP4GY6XAWIII|0594033926|   5.0|1403568000|  51.0|   3.0|       NaN|\n",
      "|A34895BBYDUOG7|0972683275|   5.0|1325548800|  59.0|   0.0|       NaN|\n",
      "|A1HT4T3HR2W9VG|0972683275|   5.0|1396483200|  64.0|   0.0|       NaN|\n",
      "|A1UJX9NC57TW5N|0972683275|   5.0|1354579200|  65.0|   0.0|       NaN|\n",
      "|A3A5LQ5T7M7I8V|0972683275|   5.0|1346716800|  69.0|   0.0|       NaN|\n",
      "|A1FXYTO11KEJ2P|0594033926|   4.0|1398297600|  70.0|   3.0|       NaN|\n",
      "|A3H4C425X1H2H9|0972683275|   5.0|1402358400|  72.0|   0.0|       NaN|\n",
      "|A31QWH1JR60A5F|0972683275|   5.0|1371427200|  73.0|   0.0|       NaN|\n",
      "+--------------+----------+------+----------+------+------+----------+\n",
      "only showing top 20 rows\n",
      "\n"
     ]
    }
   ],
   "source": [
    "from pyspark.ml.pipeline import Pipeline,PipelineModel\n",
    "from pyspark.ml.feature import StringIndexer\n",
    "from pyspark.ml.recommendation import ALS\n",
    "from pyspark.sql.functions import *\n",
    "userIndexer = StringIndexer(inputCol=\"user\",outputCol=\"userid\",handleInvalid=\"error\").fit(df)\n",
    "itemIndexer = StringIndexer(inputCol=\"item\",outputCol=\"itemid\").fit(df)\n",
    "alsModel = ALS(rank=5,userCol=\"userid\",itemCol=\"itemid\",ratingCol=\"rating\",maxIter=5,regParam=0.0001)\n",
    "pipeAls = Pipeline(stages=[userIndexer,itemIndexer,alsModel])\n",
    "pipeAlsModel = pipeAls.fit(trainingData)\n",
    "\n",
    "predictionAls = pipeAlsModel.transform(trainingData)\n",
    "predictionAls.sort(asc(\"userid\")).show()\n",
    "\n",
    "prediction = pipeAlsModel.transform(testData)\n",
    "prediction.sort(asc(\"userid\")).show()\n"
   ]
  },
  {
   "cell_type": "code",
   "execution_count": 49,
   "metadata": {},
   "outputs": [
    {
     "data": {
      "text/plain": [
       "1"
      ]
     },
     "execution_count": 49,
     "metadata": {},
     "output_type": "execute_result"
    }
   ],
   "source": [
    "from pyspark.sql.functions import *\n",
    "prediction.select(\"prediction\").distinct().count()"
   ]
  }
 ],
 "metadata": {
  "kernelspec": {
   "display_name": "Python 2",
   "language": "python",
   "name": "python2"
  },
  "language_info": {
   "codemirror_mode": {
    "name": "ipython",
    "version": 2
   },
   "file_extension": ".py",
   "mimetype": "text/x-python",
   "name": "python",
   "nbconvert_exporter": "python",
   "pygments_lexer": "ipython2",
   "version": "2.7.12+"
  }
 },
 "nbformat": 4,
 "nbformat_minor": 2
}
